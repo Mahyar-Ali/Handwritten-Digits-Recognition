{
 "cells": [
  {
   "cell_type": "code",
   "execution_count": 22,
   "metadata": {},
   "outputs": [
    {
     "name": "stdout",
     "output_type": "stream",
     "text": [
      "The MNIST database has a training set of 60000 examples.\n",
      "The MNIST database has a test set of 10000 examples.\n"
     ]
    }
   ],
   "source": [
    "from keras.datasets import mnist\n",
    "import keras as K\n",
    "from keras.layers import Flatten,Dense,Dropout\n",
    "\n",
    "# use Keras to import pre-shuffled MNIST database\n",
    "(X_train, y_train), (X_test, y_test) = mnist.load_data()\n",
    "\n",
    "print(\"The MNIST database has a training set of %d examples.\" % len(X_train))\n",
    "print(\"The MNIST database has a test set of %d examples.\" % len(X_test))"
   ]
  },
  {
   "cell_type": "code",
   "execution_count": 26,
   "metadata": {},
   "outputs": [],
   "source": [
    "X_train = X_train/255\n",
    "X_test  = X_test/255"
   ]
  },
  {
   "cell_type": "code",
   "execution_count": 15,
   "metadata": {},
   "outputs": [
    {
     "name": "stdout",
     "output_type": "stream",
     "text": [
      "2\n"
     ]
    },
    {
     "data": {
      "image/png": "[encoded data removed]",
      "text/plain": [
       "<Figure size 432x288 with 1 Axes>"
      ]
     },
     "metadata": {
      "needs_background": "light"
     },
     "output_type": "display_data"
    }
   ],
   "source": [
    "import matplotlib.pyplot as pl\n",
    "%matplotlib inline\n",
    "\n",
    "plt.imshow(X_train[5,:,:])\n",
    "print(y_train[5])\n"
   ]
  },
  {
   "cell_type": "code",
   "execution_count": 27,
   "metadata": {},
   "outputs": [],
   "source": [
    "from keras.utils import to_categorical\n",
    "y_train = to_categorical(y_train,10)\n",
    "y_test = to_categorical(y_test,10)"
   ]
  },
  {
   "cell_type": "code",
   "execution_count": 28,
   "metadata": {},
   "outputs": [
    {
     "name": "stdout",
     "output_type": "stream",
     "text": [
      "[0. 0. 1. 0. 0. 0. 0. 0. 0. 0.]\n"
     ]
    }
   ],
   "source": [
    "print(y_train[5])"
   ]
  },
  {
   "cell_type": "code",
   "execution_count": 30,
   "metadata": {},
   "outputs": [
    {
     "name": "stdout",
     "output_type": "stream",
     "text": [
      "Model: \"sequential_3\"\n",
      "_________________________________________________________________\n",
      "Layer (type)                 Output Shape              Param #   \n",
      "=================================================================\n",
      "flatten_5 (Flatten)          (None, 784)               0         \n",
      "_________________________________________________________________\n",
      "dense_2 (Dense)              (None, 512)               401920    \n",
      "_________________________________________________________________\n",
      "dropout_1 (Dropout)          (None, 512)               0         \n",
      "_________________________________________________________________\n",
      "dense_3 (Dense)              (None, 512)               262656    \n",
      "_________________________________________________________________\n",
      "dropout_2 (Dropout)          (None, 512)               0         \n",
      "_________________________________________________________________\n",
      "dense_4 (Dense)              (None, 10)                5130      \n",
      "=================================================================\n",
      "Total params: 669,706\n",
      "Trainable params: 669,706\n",
      "Non-trainable params: 0\n",
      "_________________________________________________________________\n"
     ]
    }
   ],
   "source": [
    "model = K.Sequential()\n",
    "model.add(Flatten(input_shape=X_train.shape[1:]))\n",
    "model.add(Dense(512,activation='relu'))\n",
    "model.add(Dropout(0.2))\n",
    "model.add(Dense(512,activation='relu'))\n",
    "model.add(Dropout(0.2))\n",
    "model.add(Dense(10,activation='softmax'))\n",
    "model.summary()"
   ]
  },
  {
   "cell_type": "code",
   "execution_count": 35,
   "metadata": {},
   "outputs": [],
   "source": [
    "model.compile(loss='categorical_crossentropy',optimizer='Adam',metrics=['accuracy'])"
   ]
  },
  {
   "cell_type": "code",
   "execution_count": 38,
   "metadata": {},
   "outputs": [
    {
     "name": "stdout",
     "output_type": "stream",
     "text": [
      "10000/10000 [==============================] - 1s 100us/step\n",
      "8.980000019073486\n"
     ]
    }
   ],
   "source": [
    "acc = model.evaluate(X_test,y_test,verbose=1)\n",
    "print(acc[1]*100)"
   ]
  },
  {
   "cell_type": "code",
   "execution_count": 39,
   "metadata": {},
   "outputs": [],
   "source": [
    "from keras.callbacks import ModelCheckpoint\n"
   ]
  },
  {
   "cell_type": "code",
   "execution_count": 116,
   "metadata": {},
   "outputs": [
    {
     "name": "stdout",
     "output_type": "stream",
     "text": [
      "Train on 48000 samples, validate on 12000 samples\n",
      "Epoch 1/10\n",
      "48000/48000 [==============================] - 16s 329us/step - loss: 0.0211 - accuracy: 0.9931 - val_loss: 0.0955 - val_accuracy: 0.9800\n",
      "\n",
      "Epoch 00001: val_loss improved from inf to 0.09552, saving model to mnist.models.best.hdf5\n",
      "Epoch 2/10\n",
      "48000/48000 [==============================] - 13s 278us/step - loss: 0.0204 - accuracy: 0.9930 - val_loss: 0.1047 - val_accuracy: 0.9768\n",
      "\n",
      "Epoch 00002: val_loss did not improve from 0.09552\n",
      "Epoch 3/10\n",
      "48000/48000 [==============================] - 15s 322us/step - loss: 0.0196 - accuracy: 0.9933 - val_loss: 0.0928 - val_accuracy: 0.9799\n",
      "\n",
      "Epoch 00003: val_loss improved from 0.09552 to 0.09278, saving model to mnist.models.best.hdf5\n",
      "Epoch 4/10\n",
      "48000/48000 [==============================] - 15s 313us/step - loss: 0.0210 - accuracy: 0.9926 - val_loss: 0.0867 - val_accuracy: 0.9827\n",
      "\n",
      "Epoch 00004: val_loss improved from 0.09278 to 0.08672, saving model to mnist.models.best.hdf5\n",
      "Epoch 5/10\n",
      "48000/48000 [==============================] - 15s 321us/step - loss: 0.0164 - accuracy: 0.9942 - val_loss: 0.0903 - val_accuracy: 0.9815\n",
      "\n",
      "Epoch 00005: val_loss did not improve from 0.08672\n",
      "Epoch 6/10\n",
      "48000/48000 [==============================] - 18s 365us/step - loss: 0.0159 - accuracy: 0.9946 - val_loss: 0.1045 - val_accuracy: 0.9783\n",
      "\n",
      "Epoch 00006: val_loss did not improve from 0.08672\n",
      "Epoch 7/10\n",
      "48000/48000 [==============================] - 16s 330us/step - loss: 0.0185 - accuracy: 0.9936 - val_loss: 0.1037 - val_accuracy: 0.9788\n",
      "\n",
      "Epoch 00007: val_loss did not improve from 0.08672\n",
      "Epoch 8/10\n",
      "48000/48000 [==============================] - 18s 385us/step - loss: 0.0151 - accuracy: 0.9948 - val_loss: 0.1087 - val_accuracy: 0.9787\n",
      "\n",
      "Epoch 00008: val_loss did not improve from 0.08672\n",
      "Epoch 9/10\n",
      "48000/48000 [==============================] - 16s 327us/step - loss: 0.0169 - accuracy: 0.9945 - val_loss: 0.1094 - val_accuracy: 0.9783\n",
      "\n",
      "Epoch 00009: val_loss did not improve from 0.08672\n",
      "Epoch 10/10\n",
      "48000/48000 [==============================] - 13s 264us/step - loss: 0.0123 - accuracy: 0.9959 - val_loss: 0.1025 - val_accuracy: 0.9791\n",
      "\n",
      "Epoch 00010: val_loss did not improve from 0.08672\n"
     ]
    },
    {
     "data": {
      "text/plain": [
       "<keras.callbacks.callbacks.History at 0x7fefa4e26ed0>"
      ]
     },
     "execution_count": 116,
     "metadata": {},
     "output_type": "execute_result"
    }
   ],
   "source": [
    "chkp = ModelCheckpoint(\"mnist.models.best.hdf5\",verbose=1,save_best_only=True)\n",
    "model.fit(X_train,y_train,batch_size=128,epochs=10,verbose=1,callbacks=[chkp],validation_split=0.2,shuffle=True)"
   ]
  },
  {
   "cell_type": "code",
   "execution_count": 117,
   "metadata": {},
   "outputs": [
    {
     "name": "stdout",
     "output_type": "stream",
     "text": [
      "10000/10000 [==============================] - 1s 92us/step\n",
      "98.36999773979187\n"
     ]
    }
   ],
   "source": [
    "acc = model.evaluate(X_test,y_test,verbose=1)\n",
    "print(acc[1]*100)"
   ]
  },
  {
   "cell_type": "code",
   "execution_count": 120,
   "metadata": {},
   "outputs": [
    {
     "name": "stdout",
     "output_type": "stream",
     "text": [
      "1/1 [==============================] - 0s 13ms/step\n",
      "9\n"
     ]
    },
    {
     "data": {
      "image/png": "[encoded data removed]",
      "text/plain": [
       "<Figure size 432x288 with 1 Axes>"
      ]
     },
     "metadata": {
      "needs_background": "light"
     },
     "output_type": "display_data"
    }
   ],
   "source": [
    "import numpy as np\n",
    "pred = model.predict(X_test[1000:1001,:,:],verbose=1) #1001 is exclusive,this is done because predict only\n",
    "#accepts a batch of examples.But in this case we want to check only one image\n",
    "plt.imshow(X_test[1000,:,:])\n",
    "print(np.argmax(pred))"
   ]
  },
  {
   "cell_type": "code",
   "execution_count": null,
   "metadata": {},
   "outputs": [],
   "source": []
  },
  {
   "cell_type": "code",
   "execution_count": null,
   "metadata": {},
   "outputs": [],
   "source": []
  }
 ],
 "metadata": {
  "kernelspec": {
   "display_name": "Python 3",
   "language": "python",
   "name": "python3"
  },
  "language_info": {
   "codemirror_mode": {
    "name": "ipython",
    "version": 3
   },
   "file_extension": ".py",
   "mimetype": "text/x-python",
   "name": "python",
   "nbconvert_exporter": "python",
   "pygments_lexer": "ipython3",
   "version": "3.7.4"
  }
 },
 "nbformat": 4,
 "nbformat_minor": 2
}
